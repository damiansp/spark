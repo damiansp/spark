{
 "cells": [
  {
   "cell_type": "code",
   "execution_count": null,
   "id": "f78aed65",
   "metadata": {},
   "outputs": [],
   "source": [
    "import datetime\n",
    "\n",
    "import matplotlib.pyplot as plt\n",
    "import numpy as np\n",
    "import pandas as pd\n",
    "from pyspark.sql import SparkSession, Window\n",
    "from pyspark.sql.functions import asc, desc, sum as ssum, udf\n",
    "from pyspark.sql.types import StringType\n",
    "from pyspark.sql.types import IntegerType"
   ]
  },
  {
   "cell_type": "code",
   "execution_count": null,
   "id": "c03fdccc",
   "metadata": {},
   "outputs": [],
   "source": [
    "spark = (\n",
    "    SparkSession\n",
    "    .builder\n",
    "    .appName(\"Wrangling Data\")\n",
    "    .getOrCreate())"
   ]
  },
  {
   "cell_type": "code",
   "execution_count": null,
   "id": "bae69910",
   "metadata": {},
   "outputs": [],
   "source": [
    "path = \"data/sparkify_log_small.json\"\n",
    "user_log = spark.read.json(path)"
   ]
  },
  {
   "cell_type": "code",
   "execution_count": null,
   "id": "d7e25464",
   "metadata": {},
   "outputs": [],
   "source": [
    "user_log.take(5)"
   ]
  },
  {
   "cell_type": "code",
   "execution_count": null,
   "id": "8b167523",
   "metadata": {},
   "outputs": [],
   "source": [
    "user_log.printSchema()"
   ]
  },
  {
   "cell_type": "code",
   "execution_count": null,
   "id": "1f3f9ecb",
   "metadata": {},
   "outputs": [],
   "source": [
    "user_log.describe().show()"
   ]
  },
  {
   "cell_type": "code",
   "execution_count": null,
   "id": "029433df",
   "metadata": {},
   "outputs": [],
   "source": [
    "user_log.describe(\"artist\").show()"
   ]
  },
  {
   "cell_type": "code",
   "execution_count": null,
   "id": "bb9d0517",
   "metadata": {},
   "outputs": [],
   "source": [
    "user_log.describe(\"sessionId\").show()"
   ]
  },
  {
   "cell_type": "code",
   "execution_count": null,
   "id": "b42143e8",
   "metadata": {},
   "outputs": [],
   "source": [
    "user_log.count()"
   ]
  },
  {
   "cell_type": "code",
   "execution_count": null,
   "id": "f3db80c5",
   "metadata": {},
   "outputs": [],
   "source": [
    "user_log.select(\"page\").dropDuplicates().sort(\"page\").show()"
   ]
  },
  {
   "cell_type": "code",
   "execution_count": null,
   "id": "6af15d1d",
   "metadata": {},
   "outputs": [],
   "source": [
    "(user_log\n",
    " .select([\"userId\", \"firstname\", \"page\", \"song\"])\n",
    " .where(user_log.userId == \"1046\")\n",
    " .collect())"
   ]
  },
  {
   "cell_type": "code",
   "execution_count": null,
   "id": "5acb4443",
   "metadata": {},
   "outputs": [],
   "source": [
    "get_hour = udf(lambda x: datetime.datetime.fromtimestamp(x / 1000.).hour)"
   ]
  },
  {
   "cell_type": "code",
   "execution_count": null,
   "id": "bce58a8a",
   "metadata": {},
   "outputs": [],
   "source": [
    "user_log = user_log.withColumn(\"hour\", get_hour(user_log.ts))"
   ]
  },
  {
   "cell_type": "code",
   "execution_count": null,
   "id": "2ecfb8df",
   "metadata": {},
   "outputs": [],
   "source": [
    "user_log.head()"
   ]
  },
  {
   "cell_type": "code",
   "execution_count": null,
   "id": "a4ae0663",
   "metadata": {},
   "outputs": [],
   "source": [
    "songs_in_hour = (\n",
    "    user_log\n",
    "    .filter(user_log.page == \"NextSong\")\n",
    "    .groupby(user_log.hour)\n",
    "    .count()\n",
    "    .orderBy(user_log.hour.cast(\"float\")))"
   ]
  },
  {
   "cell_type": "code",
   "execution_count": null,
   "id": "d36033c9",
   "metadata": {},
   "outputs": [],
   "source": [
    "songs_in_hour.show()"
   ]
  },
  {
   "cell_type": "code",
   "execution_count": null,
   "id": "aaf88491",
   "metadata": {},
   "outputs": [],
   "source": [
    "songs_in_hour_pd = songs_in_hour.toPandas()\n",
    "songs_in_hour_pd.hour = pd.to_numeric(songs_in_hour_pd.hour)"
   ]
  },
  {
   "cell_type": "code",
   "execution_count": null,
   "id": "b1f3d758",
   "metadata": {},
   "outputs": [],
   "source": [
    "plt.scatter(songs_in_hour_pd[\"hour\"], songs_in_hour_pd[\"count\"])\n",
    "plt.xlim(-1, 24);\n",
    "plt.ylim(0, 1.2 * max(songs_in_hour_pd[\"count\"]))\n",
    "plt.xlabel(\"Hour\")\n",
    "plt.ylabel(\"Songs played\");"
   ]
  },
  {
   "cell_type": "code",
   "execution_count": null,
   "id": "9c660dc2",
   "metadata": {},
   "outputs": [],
   "source": [
    "user_log_valid = user_log.dropna(how=\"any\", subset=[\"userId\", \"sessionId\"])"
   ]
  },
  {
   "cell_type": "code",
   "execution_count": null,
   "id": "e59319ca",
   "metadata": {},
   "outputs": [],
   "source": [
    "user_log_valid.count()"
   ]
  },
  {
   "cell_type": "code",
   "execution_count": null,
   "id": "08a361dc",
   "metadata": {},
   "outputs": [],
   "source": [
    "user_log.select(\"userId\").dropDuplicates().sort(\"userId\").show()"
   ]
  },
  {
   "cell_type": "code",
   "execution_count": null,
   "id": "e9fc1c5a",
   "metadata": {},
   "outputs": [],
   "source": [
    "user_log_valid = user_log_valid.filter(user_log_valid[\"userId\"] != \"\")"
   ]
  },
  {
   "cell_type": "code",
   "execution_count": null,
   "id": "7ae141d5",
   "metadata": {},
   "outputs": [],
   "source": [
    "user_log_valid.count()"
   ]
  },
  {
   "cell_type": "code",
   "execution_count": null,
   "id": "180e80cf",
   "metadata": {},
   "outputs": [],
   "source": [
    "user_log_valid.filter(\"page = 'Submit Downgrade'\").show()"
   ]
  },
  {
   "cell_type": "code",
   "execution_count": null,
   "id": "9f240d3a",
   "metadata": {},
   "outputs": [],
   "source": [
    "(user_log\n",
    " .select([\"userId\", \"firstname\", \"page\", \"level\", \"song\"])\n",
    " .where(user_log.userId == \"1138\")\n",
    " .collect())"
   ]
  },
  {
   "cell_type": "code",
   "execution_count": null,
   "id": "ccaac22e",
   "metadata": {},
   "outputs": [],
   "source": [
    "flag_downgrade_event = udf(lambda x: 1 if x == \"Submit Downgrade\" else 0, IntegerType())"
   ]
  },
  {
   "cell_type": "code",
   "execution_count": null,
   "id": "db515025",
   "metadata": {},
   "outputs": [],
   "source": [
    "user_log_valid = user_log_valid.withColumn(\"downgraded\", flag_downgrade_event(\"page\"))"
   ]
  },
  {
   "cell_type": "code",
   "execution_count": null,
   "id": "c89e5287",
   "metadata": {},
   "outputs": [],
   "source": [
    "user_log_valid.head()"
   ]
  },
  {
   "cell_type": "code",
   "execution_count": null,
   "id": "c29cc9e8",
   "metadata": {},
   "outputs": [],
   "source": [
    "windowval = (\n",
    "    Window\n",
    "    .partitionBy(\"userId\")\n",
    "    .orderBy(desc(\"ts\"))\n",
    "    .rangeBetween(Window.unboundedPreceding, 0))"
   ]
  },
  {
   "cell_type": "code",
   "execution_count": null,
   "id": "8cb44e1d",
   "metadata": {},
   "outputs": [],
   "source": [
    "user_log_valid = user_log_valid.withColumn(\"phase\", Fsum(\"downgraded\").over(windowval))"
   ]
  },
  {
   "cell_type": "code",
   "execution_count": null,
   "id": "b1d01dcf",
   "metadata": {},
   "outputs": [],
   "source": [
    "(user_log_valid\n",
    " .select([\"userId\", \"firstname\", \"ts\", \"page\", \"level\", \"phase\"])\n",
    " .where(user_log.userId == \"1138\")\n",
    " .sort(\"ts\")\n",
    " .collect())"
   ]
  },
  {
   "cell_type": "code",
   "execution_count": null,
   "id": "a7dd44ae",
   "metadata": {},
   "outputs": [],
   "source": []
  },
  {
   "cell_type": "code",
   "execution_count": null,
   "id": "205d5a14",
   "metadata": {},
   "outputs": [],
   "source": []
  }
 ],
 "metadata": {
  "kernelspec": {
   "display_name": "Python 3 (ipykernel)",
   "language": "python",
   "name": "python3"
  },
  "language_info": {
   "codemirror_mode": {
    "name": "ipython",
    "version": 3
   },
   "file_extension": ".py",
   "mimetype": "text/x-python",
   "name": "python",
   "nbconvert_exporter": "python",
   "pygments_lexer": "ipython3",
   "version": "3.11.3"
  }
 },
 "nbformat": 4,
 "nbformat_minor": 5
}
